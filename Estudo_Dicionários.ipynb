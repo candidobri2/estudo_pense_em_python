{
  "nbformat": 4,
  "nbformat_minor": 0,
  "metadata": {
    "colab": {
      "name": "Estudo - Dicionários",
      "provenance": [],
      "collapsed_sections": [],
      "authorship_tag": "ABX9TyOAaMgdQ9aI9nWHjBamGCPL",
      "include_colab_link": true
    },
    "kernelspec": {
      "name": "python3",
      "display_name": "Python 3"
    },
    "language_info": {
      "name": "python"
    }
  },
  "cells": [
    {
      "cell_type": "markdown",
      "metadata": {
        "id": "view-in-github",
        "colab_type": "text"
      },
      "source": [
        "<a href=\"https://colab.research.google.com/github/candidobri2/estudo_pense_em_python/blob/main/Estudo_Dicion%C3%A1rios.ipynb\" target=\"_parent\"><img src=\"https://colab.research.google.com/assets/colab-badge.svg\" alt=\"Open In Colab\"/></a>"
      ]
    },
    {
      "cell_type": "markdown",
      "source": [
        "#### Princípios básicos\n",
        "Dicionários associam chaves a valores.\n",
        "\n",
        "Ex1: Inglês pro espanhol"
      ],
      "metadata": {
        "id": "qYJYdEbF5a5r"
      }
    },
    {
      "cell_type": "code",
      "source": [
        "eng2esp=dict() #### criando um dicionário vazio\n",
        "eng2esp[\"one\"] = \"uno\" ### associando o valor uno a chave one do dicionário eng2esp\n"
      ],
      "metadata": {
        "id": "j7GlJM3x5hYV"
      },
      "execution_count": null,
      "outputs": []
    },
    {
      "cell_type": "code",
      "source": [
        "print(eng2esp)"
      ],
      "metadata": {
        "colab": {
          "base_uri": "https://localhost:8080/"
        },
        "id": "3epPdqHI5xom",
        "outputId": "1d675639-e553-4622-9a6e-af8c69602a10"
      },
      "execution_count": null,
      "outputs": [
        {
          "output_type": "stream",
          "name": "stdout",
          "text": [
            "{'one': 'uno'}\n"
          ]
        }
      ]
    },
    {
      "cell_type": "code",
      "source": [
        "#### podemos criar ja nesse formato de saida\n",
        "#### ex\n",
        "eng2esp = {\"one\":\"uno\", \"two\":\"dos\",\"three\": \"tres\"}"
      ],
      "metadata": {
        "id": "mZIMNhJG50eJ"
      },
      "execution_count": null,
      "outputs": []
    },
    {
      "cell_type": "code",
      "source": [
        "eng2esp #### a ordem de apresentação do dicionário não segue o que foi criado\n",
        "## não é prblematico porque os valores não sao indexados pela ordem e sim pela chave"
      ],
      "metadata": {
        "colab": {
          "base_uri": "https://localhost:8080/"
        },
        "id": "RcXzHpFi6Dkf",
        "outputId": "a63efe0f-26b4-4b1e-9513-a3e6a3334057"
      },
      "execution_count": null,
      "outputs": [
        {
          "output_type": "execute_result",
          "data": {
            "text/plain": [
              "{'one': 'uno', 'three': 'tres', 'two': 'dos'}"
            ]
          },
          "metadata": {},
          "execution_count": 5
        }
      ]
    },
    {
      "cell_type": "code",
      "source": [
        "eng2esp[\"two\"]"
      ],
      "metadata": {
        "colab": {
          "base_uri": "https://localhost:8080/",
          "height": 35
        },
        "id": "pjyGd0ha6IX5",
        "outputId": "371431ee-5930-4214-bf1e-fdc65e8a42c1"
      },
      "execution_count": null,
      "outputs": [
        {
          "output_type": "execute_result",
          "data": {
            "application/vnd.google.colaboratory.intrinsic+json": {
              "type": "string"
            },
            "text/plain": [
              "'dos'"
            ]
          },
          "metadata": {},
          "execution_count": 6
        }
      ]
    },
    {
      "cell_type": "code",
      "source": [
        "eng2esp[\"dos\"] ### não funciona para os valores, POSSIVELMENTE OUTRA FUNÇÃO"
      ],
      "metadata": {
        "colab": {
          "base_uri": "https://localhost:8080/",
          "height": 165
        },
        "id": "3_r1CiIx6W2h",
        "outputId": "95fa0b7c-905f-427b-b3d6-c3f516442a70"
      },
      "execution_count": null,
      "outputs": [
        {
          "output_type": "error",
          "ename": "KeyError",
          "evalue": "ignored",
          "traceback": [
            "\u001b[0;31m---------------------------------------------------------------------------\u001b[0m",
            "\u001b[0;31mKeyError\u001b[0m                                  Traceback (most recent call last)",
            "\u001b[0;32m<ipython-input-8-a6df461ec454>\u001b[0m in \u001b[0;36m<module>\u001b[0;34m()\u001b[0m\n\u001b[0;32m----> 1\u001b[0;31m \u001b[0meng2esp\u001b[0m\u001b[0;34m[\u001b[0m\u001b[0;34m\"dos\"\u001b[0m\u001b[0;34m]\u001b[0m \u001b[0;31m### não funciona para os valores, POSSIVELMENTE OUTRA FUNÇÃO\u001b[0m\u001b[0;34m\u001b[0m\u001b[0;34m\u001b[0m\u001b[0m\n\u001b[0m",
            "\u001b[0;31mKeyError\u001b[0m: 'dos'"
          ]
        }
      ]
    },
    {
      "cell_type": "code",
      "source": [
        "len(eng2esp)"
      ],
      "metadata": {
        "colab": {
          "base_uri": "https://localhost:8080/"
        },
        "id": "pAsxha6Z6ZYh",
        "outputId": "4213b02b-4830-4cfd-88d1-ab08824e40c7"
      },
      "execution_count": null,
      "outputs": [
        {
          "output_type": "execute_result",
          "data": {
            "text/plain": [
              "3"
            ]
          },
          "metadata": {},
          "execution_count": 9
        }
      ]
    },
    {
      "cell_type": "code",
      "source": [
        "\"one\" in eng2esp"
      ],
      "metadata": {
        "colab": {
          "base_uri": "https://localhost:8080/"
        },
        "id": "Zt35_wW76lXC",
        "outputId": "114deacb-7a6d-4f61-8f9e-e788bba1fbe9"
      },
      "execution_count": null,
      "outputs": [
        {
          "output_type": "execute_result",
          "data": {
            "text/plain": [
              "True"
            ]
          },
          "metadata": {},
          "execution_count": 11
        }
      ]
    },
    {
      "cell_type": "code",
      "source": [
        "valores = eng2esp.values() #### pegar só os valores, cria uma estrutura do tipo dict_values\n",
        "valores\n",
        "\"uno\" in valores"
      ],
      "metadata": {
        "colab": {
          "base_uri": "https://localhost:8080/"
        },
        "id": "LdvrG9Ia6u0r",
        "outputId": "8c55ce32-272e-49eb-fe45-7e4f7ac97b03"
      },
      "execution_count": null,
      "outputs": [
        {
          "output_type": "execute_result",
          "data": {
            "text/plain": [
              "True"
            ]
          },
          "metadata": {},
          "execution_count": 15
        }
      ]
    },
    {
      "cell_type": "code",
      "source": [
        "#### Ex2: CONTADOR DE LETRAS EM UMA FRASE/PALAVRA/LETRA\n",
        "def histograma(string):\n",
        "  d = dict()\n",
        "  for c in string:\n",
        "    if c not in d:\n",
        "      d[c] = 1\n",
        "    else:\n",
        "      d[c] += 1\n",
        "  return d "
      ],
      "metadata": {
        "id": "qkQh0kLL61Sy"
      },
      "execution_count": null,
      "outputs": []
    },
    {
      "cell_type": "code",
      "source": [
        "histograma(\"Show de bola\")"
      ],
      "metadata": {
        "colab": {
          "base_uri": "https://localhost:8080/"
        },
        "id": "9N7W_eK-9A6x",
        "outputId": "91b5f679-672d-4f3c-c2a7-9051de8ef9f8"
      },
      "execution_count": null,
      "outputs": [
        {
          "output_type": "execute_result",
          "data": {
            "text/plain": [
              "{' ': 2,\n",
              " 'S': 1,\n",
              " 'a': 1,\n",
              " 'b': 1,\n",
              " 'd': 1,\n",
              " 'e': 1,\n",
              " 'h': 1,\n",
              " 'l': 1,\n",
              " 'o': 2,\n",
              " 'w': 1}"
            ]
          },
          "metadata": {},
          "execution_count": 24
        }
      ]
    },
    {
      "cell_type": "code",
      "source": [
        "#### Ex2: CONTADOR DE LETRAS EM UMA FRASE/PALAVRA/LETRA COM GET\n",
        "def histograma2(string):\n",
        "  d = dict()\n",
        "  for c in string:\n",
        "      d[c] = d.get(c,0) + 1\n",
        "  return d\n",
        "### a chave vai receber o valor da letra +1, ou seja, na primeira aparição a função get\n",
        "### retorna o valor padrão 0 e soma 1, nas próximas aparições ela retorna esse valor 1 e soma 1\n",
        "### e assim sucessivamente\n",
        " "
      ],
      "metadata": {
        "id": "l6Ife34V9VgL"
      },
      "execution_count": null,
      "outputs": []
    },
    {
      "cell_type": "code",
      "source": [
        "nome = {\"Leia\":\"Organa\",\"Luke\": \"Skywalker\",\"Han\":\"Solo\"}\n"
      ],
      "metadata": {
        "id": "CNV4TeYDgP3e"
      },
      "execution_count": null,
      "outputs": []
    },
    {
      "cell_type": "code",
      "source": [
        "for key in nome:\n",
        "  print(key,nome[key])"
      ],
      "metadata": {
        "colab": {
          "base_uri": "https://localhost:8080/"
        },
        "id": "YqTCpwWEhlzw",
        "outputId": "bec662be-62da-4243-9498-4418c014b9f5"
      },
      "execution_count": null,
      "outputs": [
        {
          "output_type": "stream",
          "name": "stdout",
          "text": [
            "Leia Organa\n",
            "Luke Skywalker\n",
            "Han Solo\n"
          ]
        }
      ]
    },
    {
      "cell_type": "code",
      "source": [
        "sorted(nome)"
      ],
      "metadata": {
        "colab": {
          "base_uri": "https://localhost:8080/"
        },
        "id": "cqHNUztehrom",
        "outputId": "f3909dfb-eef9-45ff-8a70-010028006a3b"
      },
      "execution_count": null,
      "outputs": [
        {
          "output_type": "execute_result",
          "data": {
            "text/plain": [
              "['Han', 'Leia', 'Luke']"
            ]
          },
          "metadata": {},
          "execution_count": 24
        }
      ]
    },
    {
      "cell_type": "code",
      "source": [
        "for key in sorted(nome):\n",
        "  print(key, nome[key])"
      ],
      "metadata": {
        "colab": {
          "base_uri": "https://localhost:8080/"
        },
        "id": "EI02P0UphzkV",
        "outputId": "90229ec8-fb89-4e0b-9550-8cd12c6075a8"
      },
      "execution_count": null,
      "outputs": [
        {
          "output_type": "stream",
          "name": "stdout",
          "text": [
            "Han Solo\n",
            "Leia Organa\n",
            "Luke Skywalker\n"
          ]
        }
      ]
    },
    {
      "cell_type": "markdown",
      "source": [
        "#### Busca Reversa"
      ],
      "metadata": {
        "id": "qnUXMI5Zihsn"
      }
    },
    {
      "cell_type": "markdown",
      "source": [
        "Uma busca reversa é procurar pela chave a partir do valor conhecido. É preciso criar uma script para tal"
      ],
      "metadata": {
        "id": "kMRucGRtilct"
      }
    },
    {
      "cell_type": "code",
      "source": [
        "## exemplo livro\n",
        "def busca_reversa(dicc,value):\n",
        "  for k in dicc:\n",
        "    if dicc[k]==value:\n",
        "      return k\n",
        "  raise LookupError(\"Chave não encontrada para esse valor\")"
      ],
      "metadata": {
        "id": "zijo_YLRis6P"
      },
      "execution_count": null,
      "outputs": []
    },
    {
      "cell_type": "code",
      "source": [
        "busca_reversa(nome,\"Solo\")"
      ],
      "metadata": {
        "colab": {
          "base_uri": "https://localhost:8080/",
          "height": 35
        },
        "id": "YWx6SJ-8jL04",
        "outputId": "4c416607-ab83-4d27-81e8-b73ffbc32b98"
      },
      "execution_count": null,
      "outputs": [
        {
          "output_type": "execute_result",
          "data": {
            "application/vnd.google.colaboratory.intrinsic+json": {
              "type": "string"
            },
            "text/plain": [
              "'Han'"
            ]
          },
          "metadata": {},
          "execution_count": 31
        }
      ]
    },
    {
      "cell_type": "code",
      "source": [
        "busca_reversa(nome,\"Palpatine\")"
      ],
      "metadata": {
        "colab": {
          "base_uri": "https://localhost:8080/",
          "height": 252
        },
        "id": "ZBPC1pLKjPqB",
        "outputId": "4182de70-476e-4757-a1b9-24540ad36180"
      },
      "execution_count": null,
      "outputs": [
        {
          "output_type": "error",
          "ename": "LookupError",
          "evalue": "ignored",
          "traceback": [
            "\u001b[0;31m---------------------------------------------------------------------------\u001b[0m",
            "\u001b[0;31mLookupError\u001b[0m                               Traceback (most recent call last)",
            "\u001b[0;32m<ipython-input-32-3bbb0bf45527>\u001b[0m in \u001b[0;36m<module>\u001b[0;34m()\u001b[0m\n\u001b[0;32m----> 1\u001b[0;31m \u001b[0mbusca_reversa\u001b[0m\u001b[0;34m(\u001b[0m\u001b[0mnome\u001b[0m\u001b[0;34m,\u001b[0m\u001b[0;34m\"Palpatine\"\u001b[0m\u001b[0;34m)\u001b[0m\u001b[0;34m\u001b[0m\u001b[0;34m\u001b[0m\u001b[0m\n\u001b[0m",
            "\u001b[0;32m<ipython-input-30-99f771fa10c2>\u001b[0m in \u001b[0;36mbusca_reversa\u001b[0;34m(dicc, value)\u001b[0m\n\u001b[1;32m      4\u001b[0m     \u001b[0;32mif\u001b[0m \u001b[0mdicc\u001b[0m\u001b[0;34m[\u001b[0m\u001b[0mk\u001b[0m\u001b[0;34m]\u001b[0m\u001b[0;34m==\u001b[0m\u001b[0mvalue\u001b[0m\u001b[0;34m:\u001b[0m\u001b[0;34m\u001b[0m\u001b[0;34m\u001b[0m\u001b[0m\n\u001b[1;32m      5\u001b[0m       \u001b[0;32mreturn\u001b[0m \u001b[0mk\u001b[0m\u001b[0;34m\u001b[0m\u001b[0;34m\u001b[0m\u001b[0m\n\u001b[0;32m----> 6\u001b[0;31m   \u001b[0;32mraise\u001b[0m \u001b[0mLookupError\u001b[0m\u001b[0;34m(\u001b[0m\u001b[0;34m\"Chave não encontrada para esse valor\"\u001b[0m\u001b[0;34m)\u001b[0m\u001b[0;34m\u001b[0m\u001b[0;34m\u001b[0m\u001b[0m\n\u001b[0m",
            "\u001b[0;31mLookupError\u001b[0m: Chave não encontrada para esse valor"
          ]
        }
      ]
    },
    {
      "cell_type": "markdown",
      "source": [
        "Obs: Uma busca reversa é muito mais lenta que uma busca direta, se for necessária fazer muitas vezes ou o dicionário ficar muito grande pode ser prejudicial para o programa."
      ],
      "metadata": {
        "id": "0ycqcyejjj45"
      }
    },
    {
      "cell_type": "code",
      "source": [
        "### Vamos inverter o dicionário contador de letras\n",
        "## relembrando a função que criamos\n",
        "jubileu = histograma2(\"jubileu anual dos carecas\")\n"
      ],
      "metadata": {
        "id": "l-ttcoN7jtT-"
      },
      "execution_count": null,
      "outputs": []
    },
    {
      "cell_type": "code",
      "source": [
        "## agora as chaves serão os numeros e os valores uma lista de letras\n",
        "\n",
        "def inverter_dicionario(h):\n",
        "  inverso = dict()\n",
        "  for key in h:\n",
        "    valor = h[key]\n",
        "    if valor not in inverso:\n",
        "      inverso[valor] = [key]\n",
        "    else:\n",
        "      inverso[valor].append(key)\n",
        "  return inverso"
      ],
      "metadata": {
        "id": "tFdxDvvYmiFw"
      },
      "execution_count": null,
      "outputs": []
    },
    {
      "cell_type": "code",
      "source": [
        "jubileu_reverso = inverter_dicionario(jubileu)"
      ],
      "metadata": {
        "id": "SHJlCMRynP9N"
      },
      "execution_count": null,
      "outputs": []
    },
    {
      "cell_type": "code",
      "source": [
        "jubileu_reverso"
      ],
      "metadata": {
        "colab": {
          "base_uri": "https://localhost:8080/"
        },
        "id": "KlTrEuPBnhXH",
        "outputId": "8c53c609-cca7-450f-feba-7b98a2bd0d98"
      },
      "execution_count": null,
      "outputs": [
        {
          "output_type": "execute_result",
          "data": {
            "text/plain": [
              "{1: ['j', 'b', 'i', 'n', 'd', 'o', 'r'],\n",
              " 2: ['l', 'e', 's', 'c'],\n",
              " 3: ['u', ' '],\n",
              " 4: ['a']}"
            ]
          },
          "metadata": {},
          "execution_count": 41
        }
      ]
    },
    {
      "cell_type": "markdown",
      "source": [
        "### Memo\n",
        "\n"
      ],
      "metadata": {
        "id": "iWOj-IfApE10"
      }
    },
    {
      "cell_type": "code",
      "source": [
        "known = {0:0,1:1}\n",
        "def fibonacci(n):\n",
        "  if n in known:\n",
        "    return known[n]\n",
        "  res = fibonacci(n-1) + fibonacci(n-2)\n",
        "  known[n]=res\n",
        "  return res"
      ],
      "metadata": {
        "id": "Uz_Vdd9opG5d"
      },
      "execution_count": null,
      "outputs": []
    },
    {
      "cell_type": "code",
      "source": [
        "### 10.11\n",
        "words = open(\"/words.txt\",\"r\")"
      ],
      "metadata": {
        "id": "LE-1LBrcpiCd"
      },
      "execution_count": null,
      "outputs": []
    },
    {
      "cell_type": "code",
      "source": [
        "words_dic = dict()\n",
        "for i in words:\n",
        "  words_dic[i.strip()] = 1\n"
      ],
      "metadata": {
        "id": "KMnkESmssS4Z"
      },
      "execution_count": null,
      "outputs": []
    },
    {
      "cell_type": "code",
      "source": [
        "words_dic"
      ],
      "metadata": {
        "colab": {
          "base_uri": "https://localhost:8080/"
        },
        "id": "XyzAK-CFuukQ",
        "outputId": "e1a9a34e-0b5c-44a3-e5c6-b9dd3544b901"
      },
      "execution_count": null,
      "outputs": [
        {
          "output_type": "execute_result",
          "data": {
            "text/plain": [
              "{'aa': 1,\n",
              " 'aah': 1,\n",
              " 'aahed': 1,\n",
              " 'aahing': 1,\n",
              " 'aahs': 1,\n",
              " 'aal': 1,\n",
              " 'aalii': 1,\n",
              " 'aaliis': 1,\n",
              " 'aals': 1,\n",
              " 'aardvark': 1,\n",
              " 'aardvarks': 1,\n",
              " 'aardwolf': 1,\n",
              " 'aardwolves': 1,\n",
              " 'aas': 1,\n",
              " 'aasvogel': 1,\n",
              " 'aasvogels': 1,\n",
              " 'aba': 1,\n",
              " 'abaca': 1,\n",
              " 'abacas': 1,\n",
              " 'abaci': 1,\n",
              " 'aback': 1,\n",
              " 'abacus': 1,\n",
              " 'abacuses': 1,\n",
              " 'abaft': 1,\n",
              " 'abaka': 1,\n",
              " 'abakas': 1,\n",
              " 'abalone': 1,\n",
              " 'abalones': 1,\n",
              " 'abamp': 1,\n",
              " 'abampere': 1,\n",
              " 'abamperes': 1,\n",
              " 'abamps': 1,\n",
              " 'abandon': 1,\n",
              " 'abandoned': 1,\n",
              " 'abandoning': 1,\n",
              " 'abandonment': 1,\n",
              " 'abandonments': 1,\n",
              " 'abandons': 1,\n",
              " 'abas': 1,\n",
              " 'abase': 1,\n",
              " 'abased': 1,\n",
              " 'abasedly': 1,\n",
              " 'abasement': 1,\n",
              " 'abasements': 1,\n",
              " 'abaser': 1,\n",
              " 'abasers': 1,\n",
              " 'abases': 1,\n",
              " 'abash': 1,\n",
              " 'abashed': 1,\n",
              " 'abashes': 1,\n",
              " 'abashing': 1,\n",
              " 'abasing': 1,\n",
              " 'abatable': 1,\n",
              " 'abate': 1,\n",
              " 'abated': 1,\n",
              " 'abatement': 1,\n",
              " 'abatements': 1,\n",
              " 'abater': 1,\n",
              " 'abaters': 1,\n",
              " 'abates': 1,\n",
              " 'abating': 1,\n",
              " 'abatis': 1,\n",
              " 'abatises': 1,\n",
              " 'abator': 1,\n",
              " 'abators': 1,\n",
              " 'abattis': 1,\n",
              " 'abattises': 1,\n",
              " 'abattoir': 1,\n",
              " 'abattoirs': 1,\n",
              " 'abaxial': 1,\n",
              " 'abaxile': 1,\n",
              " 'abbacies': 1,\n",
              " 'abbacy': 1,\n",
              " 'abbatial': 1,\n",
              " 'abbe': 1,\n",
              " 'abbes': 1,\n",
              " 'abbess': 1,\n",
              " 'abbesses': 1,\n",
              " 'abbey': 1,\n",
              " 'abbeys': 1,\n",
              " 'abbot': 1,\n",
              " 'abbotcies': 1,\n",
              " 'abbotcy': 1,\n",
              " 'abbots': 1,\n",
              " 'abbreviate': 1,\n",
              " 'abbreviated': 1,\n",
              " 'abbreviates': 1,\n",
              " 'abbreviating': 1,\n",
              " 'abbreviation': 1,\n",
              " 'abbreviations': 1,\n",
              " 'abdicate': 1,\n",
              " 'abdicated': 1,\n",
              " 'abdicates': 1,\n",
              " 'abdicating': 1,\n",
              " 'abdication': 1,\n",
              " 'abdications': 1,\n",
              " 'abdomen': 1,\n",
              " 'abdomens': 1,\n",
              " 'abdomina': 1,\n",
              " 'abdominal': 1,\n",
              " 'abdominally': 1,\n",
              " 'abduce': 1,\n",
              " 'abduced': 1,\n",
              " 'abducens': 1,\n",
              " 'abducent': 1,\n",
              " 'abducentes': 1,\n",
              " 'abduces': 1,\n",
              " 'abducing': 1,\n",
              " 'abduct': 1,\n",
              " 'abducted': 1,\n",
              " 'abducting': 1,\n",
              " 'abductor': 1,\n",
              " 'abductores': 1,\n",
              " 'abductors': 1,\n",
              " 'abducts': 1,\n",
              " 'abeam': 1,\n",
              " 'abed': 1,\n",
              " 'abele': 1,\n",
              " 'abeles': 1,\n",
              " 'abelmosk': 1,\n",
              " 'abelmosks': 1,\n",
              " 'aberrant': 1,\n",
              " 'aberrants': 1,\n",
              " 'aberration': 1,\n",
              " 'aberrations': 1,\n",
              " 'abet': 1,\n",
              " 'abetment': 1,\n",
              " 'abetments': 1,\n",
              " 'abets': 1,\n",
              " 'abettal': 1,\n",
              " 'abettals': 1,\n",
              " 'abetted': 1,\n",
              " 'abetter': 1,\n",
              " 'abetters': 1,\n",
              " 'abetting': 1,\n",
              " 'abettor': 1,\n",
              " 'abettors': 1,\n",
              " 'abeyance': 1,\n",
              " 'abeyances': 1,\n",
              " 'abeyancies': 1,\n",
              " 'abeyancy': 1,\n",
              " 'abeyant': 1,\n",
              " 'abfarad': 1,\n",
              " 'abfarads': 1,\n",
              " 'abhenries': 1,\n",
              " 'abhenry': 1,\n",
              " 'abhenrys': 1,\n",
              " 'abhor': 1,\n",
              " 'abhorred': 1,\n",
              " 'abhorrence': 1,\n",
              " 'abhorrences': 1,\n",
              " 'abhorrent': 1,\n",
              " 'abhorrer': 1,\n",
              " 'abhorrers': 1,\n",
              " 'abhorring': 1,\n",
              " 'abhors': 1,\n",
              " 'abidance': 1,\n",
              " 'abidances': 1,\n",
              " 'abide': 1,\n",
              " 'abided': 1,\n",
              " 'abider': 1,\n",
              " 'abiders': 1,\n",
              " 'abides': 1,\n",
              " 'abiding': 1,\n",
              " 'abied': 1,\n",
              " 'abies': 1,\n",
              " 'abigail': 1,\n",
              " 'abigails': 1,\n",
              " 'abilities': 1,\n",
              " 'ability': 1,\n",
              " 'abioses': 1,\n",
              " 'abiosis': 1,\n",
              " 'abiotic': 1,\n",
              " 'abject': 1,\n",
              " 'abjectly': 1,\n",
              " 'abjectness': 1,\n",
              " 'abjectnesses': 1,\n",
              " 'abjuration': 1,\n",
              " 'abjurations': 1,\n",
              " 'abjure': 1,\n",
              " 'abjured': 1,\n",
              " 'abjurer': 1,\n",
              " 'abjurers': 1,\n",
              " 'abjures': 1,\n",
              " 'abjuring': 1,\n",
              " 'ablate': 1,\n",
              " 'ablated': 1,\n",
              " 'ablates': 1,\n",
              " 'ablating': 1,\n",
              " 'ablation': 1,\n",
              " 'ablations': 1,\n",
              " 'ablative': 1,\n",
              " 'ablatives': 1,\n",
              " 'ablaut': 1,\n",
              " 'ablauts': 1,\n",
              " 'ablaze': 1,\n",
              " 'able': 1,\n",
              " 'ablegate': 1,\n",
              " 'ablegates': 1,\n",
              " 'abler': 1,\n",
              " 'ables': 1,\n",
              " 'ablest': 1,\n",
              " 'ablings': 1,\n",
              " 'ablins': 1,\n",
              " 'abloom': 1,\n",
              " 'abluent': 1,\n",
              " 'abluents': 1,\n",
              " 'ablush': 1,\n",
              " 'abluted': 1,\n",
              " 'ablution': 1,\n",
              " 'ablutions': 1,\n",
              " 'ably': 1,\n",
              " 'abmho': 1,\n",
              " 'abmhos': 1,\n",
              " 'abnegate': 1,\n",
              " 'abnegated': 1,\n",
              " 'abnegates': 1,\n",
              " 'abnegating': 1,\n",
              " 'abnegation': 1,\n",
              " 'abnegations': 1,\n",
              " 'abnormal': 1,\n",
              " 'abnormalities': 1,\n",
              " 'abnormality': 1,\n",
              " 'abnormally': 1,\n",
              " 'abnormals': 1,\n",
              " 'abo': 1,\n",
              " 'aboard': 1,\n",
              " 'abode': 1,\n",
              " 'aboded': 1,\n",
              " 'abodes': 1,\n",
              " 'aboding': 1,\n",
              " 'abohm': 1,\n",
              " 'abohms': 1,\n",
              " 'aboideau': 1,\n",
              " 'aboideaus': 1,\n",
              " 'aboideaux': 1,\n",
              " 'aboil': 1,\n",
              " 'aboiteau': 1,\n",
              " 'aboiteaus': 1,\n",
              " 'aboiteaux': 1,\n",
              " 'abolish': 1,\n",
              " 'abolished': 1,\n",
              " 'abolishes': 1,\n",
              " 'abolishing': 1,\n",
              " 'abolition': 1,\n",
              " 'abolitions': 1,\n",
              " 'abolla': 1,\n",
              " 'abollae': 1,\n",
              " 'aboma': 1,\n",
              " 'abomas': 1,\n",
              " 'abomasa': 1,\n",
              " 'abomasal': 1,\n",
              " 'abomasi': 1,\n",
              " 'abomasum': 1,\n",
              " 'abomasus': 1,\n",
              " 'abominable': 1,\n",
              " 'abominate': 1,\n",
              " 'abominated': 1,\n",
              " 'abominates': 1,\n",
              " 'abominating': 1,\n",
              " 'abomination': 1,\n",
              " 'abominations': 1,\n",
              " 'aboon': 1,\n",
              " 'aboral': 1,\n",
              " 'aborally': 1,\n",
              " 'aboriginal': 1,\n",
              " 'aborigine': 1,\n",
              " 'aborigines': 1,\n",
              " 'aborning': 1,\n",
              " 'abort': 1,\n",
              " 'aborted': 1,\n",
              " 'aborter': 1,\n",
              " 'aborters': 1,\n",
              " 'aborting': 1,\n",
              " 'abortion': 1,\n",
              " 'abortions': 1,\n",
              " 'abortive': 1,\n",
              " 'aborts': 1,\n",
              " 'abos': 1,\n",
              " 'abought': 1,\n",
              " 'aboulia': 1,\n",
              " 'aboulias': 1,\n",
              " 'aboulic': 1,\n",
              " 'abound': 1,\n",
              " 'abounded': 1,\n",
              " 'abounding': 1,\n",
              " 'abounds': 1,\n",
              " 'about': 1,\n",
              " 'above': 1,\n",
              " 'aboveboard': 1,\n",
              " 'aboves': 1,\n",
              " 'abracadabra': 1,\n",
              " 'abradant': 1,\n",
              " 'abradants': 1,\n",
              " 'abrade': 1,\n",
              " 'abraded': 1,\n",
              " 'abrader': 1,\n",
              " 'abraders': 1,\n",
              " 'abrades': 1,\n",
              " 'abrading': 1,\n",
              " 'abrasion': 1,\n",
              " 'abrasions': 1,\n",
              " 'abrasive': 1,\n",
              " 'abrasively': 1,\n",
              " 'abrasiveness': 1,\n",
              " 'abrasivenesses': 1,\n",
              " 'abrasives': 1,\n",
              " 'abreact': 1,\n",
              " 'abreacted': 1,\n",
              " 'abreacting': 1,\n",
              " 'abreacts': 1,\n",
              " 'abreast': 1,\n",
              " 'abri': 1,\n",
              " 'abridge': 1,\n",
              " 'abridged': 1,\n",
              " 'abridgement': 1,\n",
              " 'abridgements': 1,\n",
              " 'abridger': 1,\n",
              " 'abridgers': 1,\n",
              " 'abridges': 1,\n",
              " 'abridging': 1,\n",
              " 'abridgment': 1,\n",
              " 'abridgments': 1,\n",
              " 'abris': 1,\n",
              " 'abroach': 1,\n",
              " 'abroad': 1,\n",
              " 'abrogate': 1,\n",
              " 'abrogated': 1,\n",
              " 'abrogates': 1,\n",
              " 'abrogating': 1,\n",
              " 'abrupt': 1,\n",
              " 'abrupter': 1,\n",
              " 'abruptest': 1,\n",
              " 'abruptly': 1,\n",
              " 'abscess': 1,\n",
              " 'abscessed': 1,\n",
              " 'abscesses': 1,\n",
              " 'abscessing': 1,\n",
              " 'abscise': 1,\n",
              " 'abscised': 1,\n",
              " 'abscises': 1,\n",
              " 'abscisin': 1,\n",
              " 'abscising': 1,\n",
              " 'abscisins': 1,\n",
              " 'abscissa': 1,\n",
              " 'abscissae': 1,\n",
              " 'abscissas': 1,\n",
              " 'abscond': 1,\n",
              " 'absconded': 1,\n",
              " 'absconding': 1,\n",
              " 'absconds': 1,\n",
              " 'absence': 1,\n",
              " 'absences': 1,\n",
              " 'absent': 1,\n",
              " 'absented': 1,\n",
              " 'absentee': 1,\n",
              " 'absentees': 1,\n",
              " 'absenter': 1,\n",
              " 'absenters': 1,\n",
              " 'absenting': 1,\n",
              " 'absently': 1,\n",
              " 'absentminded': 1,\n",
              " 'absentmindedly': 1,\n",
              " 'absentmindedness': 1,\n",
              " 'absentmindednesses': 1,\n",
              " 'absents': 1,\n",
              " 'absinth': 1,\n",
              " 'absinthe': 1,\n",
              " 'absinthes': 1,\n",
              " 'absinths': 1,\n",
              " 'absolute': 1,\n",
              " 'absolutely': 1,\n",
              " 'absoluter': 1,\n",
              " 'absolutes': 1,\n",
              " 'absolutest': 1,\n",
              " 'absolution': 1,\n",
              " 'absolutions': 1,\n",
              " 'absolve': 1,\n",
              " 'absolved': 1,\n",
              " 'absolver': 1,\n",
              " 'absolvers': 1,\n",
              " 'absolves': 1,\n",
              " 'absolving': 1,\n",
              " 'absonant': 1,\n",
              " 'absorb': 1,\n",
              " 'absorbed': 1,\n",
              " 'absorbencies': 1,\n",
              " 'absorbency': 1,\n",
              " 'absorbent': 1,\n",
              " 'absorber': 1,\n",
              " 'absorbers': 1,\n",
              " 'absorbing': 1,\n",
              " 'absorbingly': 1,\n",
              " 'absorbs': 1,\n",
              " 'absorption': 1,\n",
              " 'absorptions': 1,\n",
              " 'absorptive': 1,\n",
              " 'abstain': 1,\n",
              " 'abstained': 1,\n",
              " 'abstainer': 1,\n",
              " 'abstainers': 1,\n",
              " 'abstaining': 1,\n",
              " 'abstains': 1,\n",
              " 'abstemious': 1,\n",
              " 'abstemiously': 1,\n",
              " 'abstention': 1,\n",
              " 'abstentions': 1,\n",
              " 'absterge': 1,\n",
              " 'absterged': 1,\n",
              " 'absterges': 1,\n",
              " 'absterging': 1,\n",
              " 'abstinence': 1,\n",
              " 'abstinences': 1,\n",
              " 'abstract': 1,\n",
              " 'abstracted': 1,\n",
              " 'abstracter': 1,\n",
              " 'abstractest': 1,\n",
              " 'abstracting': 1,\n",
              " 'abstraction': 1,\n",
              " 'abstractions': 1,\n",
              " 'abstractly': 1,\n",
              " 'abstractness': 1,\n",
              " 'abstractnesses': 1,\n",
              " 'abstracts': 1,\n",
              " 'abstrict': 1,\n",
              " 'abstricted': 1,\n",
              " 'abstricting': 1,\n",
              " 'abstricts': 1,\n",
              " 'abstruse': 1,\n",
              " 'abstrusely': 1,\n",
              " 'abstruseness': 1,\n",
              " 'abstrusenesses': 1,\n",
              " 'abstruser': 1,\n",
              " 'abstrusest': 1,\n",
              " 'absurd': 1,\n",
              " 'absurder': 1,\n",
              " 'absurdest': 1,\n",
              " 'absurdities': 1,\n",
              " 'absurdity': 1,\n",
              " 'absurdly': 1,\n",
              " 'absurds': 1,\n",
              " 'abubble': 1,\n",
              " 'abulia': 1,\n",
              " 'abulias': 1,\n",
              " 'abulic': 1,\n",
              " 'abundance': 1,\n",
              " 'abundances': 1,\n",
              " 'abundant': 1,\n",
              " 'abundantly': 1,\n",
              " 'abusable': 1,\n",
              " 'abuse': 1,\n",
              " 'abused': 1,\n",
              " 'abuser': 1,\n",
              " 'abusers': 1,\n",
              " 'abuses': 1,\n",
              " 'abusing': 1,\n",
              " 'abusive': 1,\n",
              " 'abusively': 1,\n",
              " 'abusiveness': 1,\n",
              " 'abusivenesses': 1,\n",
              " 'abut': 1,\n",
              " 'abutilon': 1,\n",
              " 'abutilons': 1,\n",
              " 'abutment': 1,\n",
              " 'abutments': 1,\n",
              " 'abuts': 1,\n",
              " 'abuttal': 1,\n",
              " 'abuttals': 1,\n",
              " 'abutted': 1,\n",
              " 'abutter': 1,\n",
              " 'abutters': 1,\n",
              " 'abutting': 1,\n",
              " 'abuzz': 1,\n",
              " 'abvolt': 1,\n",
              " 'abvolts': 1,\n",
              " 'abwatt': 1,\n",
              " 'abwatts': 1,\n",
              " 'aby': 1,\n",
              " 'abye': 1,\n",
              " 'abyed': 1,\n",
              " 'abyes': 1,\n",
              " 'abying': 1,\n",
              " 'abys': 1,\n",
              " 'abysm': 1,\n",
              " 'abysmal': 1,\n",
              " 'abysmally': 1,\n",
              " 'abysms': 1,\n",
              " 'abyss': 1,\n",
              " 'abyssal': 1,\n",
              " 'abysses': 1,\n",
              " 'acacia': 1,\n",
              " 'acacias': 1,\n",
              " 'academe': 1,\n",
              " 'academes': 1,\n",
              " 'academia': 1,\n",
              " 'academias': 1,\n",
              " 'academic': 1,\n",
              " 'academically': 1,\n",
              " 'academics': 1,\n",
              " 'academies': 1,\n",
              " 'academy': 1,\n",
              " 'acajou': 1,\n",
              " 'acajous': 1,\n",
              " 'acaleph': 1,\n",
              " 'acalephae': 1,\n",
              " 'acalephe': 1,\n",
              " 'acalephes': 1,\n",
              " 'acalephs': 1,\n",
              " 'acanthi': 1,\n",
              " 'acanthus': 1,\n",
              " 'acanthuses': 1,\n",
              " 'acari': 1,\n",
              " 'acarid': 1,\n",
              " 'acaridan': 1,\n",
              " 'acaridans': 1,\n",
              " 'acarids': 1,\n",
              " 'acarine': 1,\n",
              " 'acarines': 1,\n",
              " 'acaroid': 1,\n",
              " 'acarpous': 1,\n",
              " 'acarus': 1,\n",
              " 'acaudal': 1,\n",
              " 'acaudate': 1,\n",
              " 'acauline': 1,\n",
              " 'acaulose': 1,\n",
              " 'acaulous': 1,\n",
              " 'accede': 1,\n",
              " 'acceded': 1,\n",
              " 'acceder': 1,\n",
              " 'acceders': 1,\n",
              " 'accedes': 1,\n",
              " 'acceding': 1,\n",
              " 'accelerate': 1,\n",
              " 'accelerated': 1,\n",
              " 'accelerates': 1,\n",
              " 'accelerating': 1,\n",
              " 'acceleration': 1,\n",
              " 'accelerations': 1,\n",
              " 'accelerator': 1,\n",
              " 'accelerators': 1,\n",
              " 'accent': 1,\n",
              " 'accented': 1,\n",
              " 'accenting': 1,\n",
              " 'accentor': 1,\n",
              " 'accentors': 1,\n",
              " 'accents': 1,\n",
              " 'accentual': 1,\n",
              " 'accentuate': 1,\n",
              " 'accentuated': 1,\n",
              " 'accentuates': 1,\n",
              " 'accentuating': 1,\n",
              " 'accentuation': 1,\n",
              " 'accentuations': 1,\n",
              " 'accept': 1,\n",
              " 'acceptabilities': 1,\n",
              " 'acceptability': 1,\n",
              " 'acceptable': 1,\n",
              " 'acceptance': 1,\n",
              " 'acceptances': 1,\n",
              " 'accepted': 1,\n",
              " 'acceptee': 1,\n",
              " 'acceptees': 1,\n",
              " 'accepter': 1,\n",
              " 'accepters': 1,\n",
              " 'accepting': 1,\n",
              " 'acceptor': 1,\n",
              " 'acceptors': 1,\n",
              " 'accepts': 1,\n",
              " 'access': 1,\n",
              " 'accessed': 1,\n",
              " 'accesses': 1,\n",
              " 'accessibilities': 1,\n",
              " 'accessibility': 1,\n",
              " 'accessible': 1,\n",
              " 'accessing': 1,\n",
              " 'accession': 1,\n",
              " 'accessions': 1,\n",
              " 'accessories': 1,\n",
              " 'accessory': 1,\n",
              " 'accident': 1,\n",
              " 'accidental': 1,\n",
              " 'accidentally': 1,\n",
              " 'accidentals': 1,\n",
              " 'accidents': 1,\n",
              " 'accidie': 1,\n",
              " 'accidies': 1,\n",
              " 'acclaim': 1,\n",
              " 'acclaimed': 1,\n",
              " 'acclaiming': 1,\n",
              " 'acclaims': 1,\n",
              " 'acclamation': 1,\n",
              " 'acclamations': 1,\n",
              " 'acclimate': 1,\n",
              " 'acclimated': 1,\n",
              " 'acclimates': 1,\n",
              " 'acclimating': 1,\n",
              " 'acclimation': 1,\n",
              " 'acclimations': 1,\n",
              " 'acclimatization': 1,\n",
              " 'acclimatizations': 1,\n",
              " 'acclimatize': 1,\n",
              " 'acclimatizes': 1,\n",
              " 'accolade': 1,\n",
              " 'accolades': 1,\n",
              " 'accommodate': 1,\n",
              " 'accommodated': 1,\n",
              " 'accommodates': 1,\n",
              " 'accommodating': 1,\n",
              " 'accommodation': 1,\n",
              " 'accommodations': 1,\n",
              " 'accompanied': 1,\n",
              " 'accompanies': 1,\n",
              " 'accompaniment': 1,\n",
              " 'accompaniments': 1,\n",
              " 'accompanist': 1,\n",
              " 'accompany': 1,\n",
              " 'accompanying': 1,\n",
              " 'accomplice': 1,\n",
              " 'accomplices': 1,\n",
              " 'accomplish': 1,\n",
              " 'accomplished': 1,\n",
              " 'accomplisher': 1,\n",
              " 'accomplishers': 1,\n",
              " 'accomplishes': 1,\n",
              " 'accomplishing': 1,\n",
              " 'accomplishment': 1,\n",
              " 'accomplishments': 1,\n",
              " 'accord': 1,\n",
              " 'accordance': 1,\n",
              " 'accordant': 1,\n",
              " 'accorded': 1,\n",
              " 'accorder': 1,\n",
              " 'accorders': 1,\n",
              " 'according': 1,\n",
              " 'accordingly': 1,\n",
              " 'accordion': 1,\n",
              " 'accordions': 1,\n",
              " 'accords': 1,\n",
              " 'accost': 1,\n",
              " 'accosted': 1,\n",
              " 'accosting': 1,\n",
              " 'accosts': 1,\n",
              " 'account': 1,\n",
              " 'accountabilities': 1,\n",
              " 'accountability': 1,\n",
              " 'accountable': 1,\n",
              " 'accountancies': 1,\n",
              " 'accountancy': 1,\n",
              " 'accountant': 1,\n",
              " 'accountants': 1,\n",
              " 'accounted': 1,\n",
              " 'accounting': 1,\n",
              " 'accountings': 1,\n",
              " 'accounts': 1,\n",
              " 'accouter': 1,\n",
              " 'accoutered': 1,\n",
              " 'accoutering': 1,\n",
              " 'accouters': 1,\n",
              " 'accoutre': 1,\n",
              " 'accoutred': 1,\n",
              " 'accoutrement': 1,\n",
              " 'accoutrements': 1,\n",
              " 'accoutres': 1,\n",
              " 'accoutring': 1,\n",
              " 'accredit': 1,\n",
              " 'accredited': 1,\n",
              " 'accrediting': 1,\n",
              " 'accredits': 1,\n",
              " 'accrete': 1,\n",
              " 'accreted': 1,\n",
              " 'accretes': 1,\n",
              " 'accreting': 1,\n",
              " 'accrual': 1,\n",
              " 'accruals': 1,\n",
              " 'accrue': 1,\n",
              " 'accrued': 1,\n",
              " 'accrues': 1,\n",
              " 'accruing': 1,\n",
              " 'accumulate': 1,\n",
              " 'accumulated': 1,\n",
              " 'accumulates': 1,\n",
              " 'accumulating': 1,\n",
              " 'accumulation': 1,\n",
              " 'accumulations': 1,\n",
              " 'accumulator': 1,\n",
              " 'accumulators': 1,\n",
              " 'accuracies': 1,\n",
              " 'accuracy': 1,\n",
              " 'accurate': 1,\n",
              " 'accurately': 1,\n",
              " 'accurateness': 1,\n",
              " 'accuratenesses': 1,\n",
              " 'accursed': 1,\n",
              " 'accurst': 1,\n",
              " 'accusal': 1,\n",
              " 'accusals': 1,\n",
              " 'accusant': 1,\n",
              " 'accusants': 1,\n",
              " 'accusation': 1,\n",
              " 'accusations': 1,\n",
              " 'accuse': 1,\n",
              " 'accused': 1,\n",
              " 'accuser': 1,\n",
              " 'accusers': 1,\n",
              " 'accuses': 1,\n",
              " 'accusing': 1,\n",
              " 'accustom': 1,\n",
              " 'accustomed': 1,\n",
              " 'accustoming': 1,\n",
              " 'accustoms': 1,\n",
              " 'ace': 1,\n",
              " 'aced': 1,\n",
              " 'acedia': 1,\n",
              " 'acedias': 1,\n",
              " 'aceldama': 1,\n",
              " 'aceldamas': 1,\n",
              " 'acentric': 1,\n",
              " 'acequia': 1,\n",
              " 'acequias': 1,\n",
              " 'acerate': 1,\n",
              " 'acerated': 1,\n",
              " 'acerb': 1,\n",
              " 'acerbate': 1,\n",
              " 'acerbated': 1,\n",
              " 'acerbates': 1,\n",
              " 'acerbating': 1,\n",
              " 'acerber': 1,\n",
              " 'acerbest': 1,\n",
              " 'acerbic': 1,\n",
              " 'acerbities': 1,\n",
              " 'acerbity': 1,\n",
              " 'acerola': 1,\n",
              " 'acerolas': 1,\n",
              " 'acerose': 1,\n",
              " 'acerous': 1,\n",
              " 'acers': 1,\n",
              " 'acervate': 1,\n",
              " 'acervuli': 1,\n",
              " 'aces': 1,\n",
              " 'acescent': 1,\n",
              " 'acescents': 1,\n",
              " 'aceta': 1,\n",
              " 'acetal': 1,\n",
              " 'acetals': 1,\n",
              " 'acetamid': 1,\n",
              " 'acetamids': 1,\n",
              " 'acetate': 1,\n",
              " 'acetated': 1,\n",
              " 'acetates': 1,\n",
              " 'acetic': 1,\n",
              " 'acetified': 1,\n",
              " 'acetifies': 1,\n",
              " 'acetify': 1,\n",
              " 'acetifying': 1,\n",
              " 'acetone': 1,\n",
              " 'acetones': 1,\n",
              " 'acetonic': 1,\n",
              " 'acetose': 1,\n",
              " 'acetous': 1,\n",
              " 'acetoxyl': 1,\n",
              " 'acetoxyls': 1,\n",
              " 'acetum': 1,\n",
              " 'acetyl': 1,\n",
              " 'acetylene': 1,\n",
              " 'acetylenes': 1,\n",
              " 'acetylic': 1,\n",
              " 'acetyls': 1,\n",
              " 'ache': 1,\n",
              " 'ached': 1,\n",
              " 'achene': 1,\n",
              " 'achenes': 1,\n",
              " 'achenial': 1,\n",
              " 'aches': 1,\n",
              " 'achier': 1,\n",
              " 'achiest': 1,\n",
              " 'achievable': 1,\n",
              " 'achieve': 1,\n",
              " 'achieved': 1,\n",
              " 'achievement': 1,\n",
              " 'achievements': 1,\n",
              " 'achiever': 1,\n",
              " 'achievers': 1,\n",
              " 'achieves': 1,\n",
              " 'achieving': 1,\n",
              " 'achiness': 1,\n",
              " 'achinesses': 1,\n",
              " 'aching': 1,\n",
              " 'achingly': 1,\n",
              " 'achiote': 1,\n",
              " 'achiotes': 1,\n",
              " 'achoo': 1,\n",
              " 'achromat': 1,\n",
              " 'achromats': 1,\n",
              " 'achromic': 1,\n",
              " 'achy': 1,\n",
              " 'acicula': 1,\n",
              " 'aciculae': 1,\n",
              " 'acicular': 1,\n",
              " 'aciculas': 1,\n",
              " 'acid': 1,\n",
              " 'acidhead': 1,\n",
              " 'acidheads': 1,\n",
              " 'acidic': 1,\n",
              " 'acidified': 1,\n",
              " 'acidifies': 1,\n",
              " 'acidify': 1,\n",
              " 'acidifying': 1,\n",
              " 'acidities': 1,\n",
              " 'acidity': 1,\n",
              " 'acidly': 1,\n",
              " 'acidness': 1,\n",
              " 'acidnesses': 1,\n",
              " 'acidoses': 1,\n",
              " 'acidosis': 1,\n",
              " 'acidotic': 1,\n",
              " 'acids': 1,\n",
              " 'acidy': 1,\n",
              " 'acierate': 1,\n",
              " 'acierated': 1,\n",
              " 'acierates': 1,\n",
              " 'acierating': 1,\n",
              " 'aciform': 1,\n",
              " 'acinar': 1,\n",
              " 'acing': 1,\n",
              " 'acini': 1,\n",
              " 'acinic': 1,\n",
              " 'acinose': 1,\n",
              " 'acinous': 1,\n",
              " 'acinus': 1,\n",
              " 'acknowledge': 1,\n",
              " 'acknowledged': 1,\n",
              " 'acknowledgement': 1,\n",
              " 'acknowledgements': 1,\n",
              " 'acknowledges': 1,\n",
              " 'acknowledging': 1,\n",
              " 'acknowledgment': 1,\n",
              " 'acknowledgments': 1,\n",
              " 'aclinic': 1,\n",
              " 'acmatic': 1,\n",
              " 'acme': 1,\n",
              " 'acmes': 1,\n",
              " 'acmic': 1,\n",
              " 'acne': 1,\n",
              " 'acned': 1,\n",
              " 'acnes': 1,\n",
              " 'acnode': 1,\n",
              " 'acnodes': 1,\n",
              " 'acock': 1,\n",
              " 'acold': 1,\n",
              " 'acolyte': 1,\n",
              " 'acolytes': 1,\n",
              " 'aconite': 1,\n",
              " 'aconites': 1,\n",
              " 'aconitic': 1,\n",
              " 'aconitum': 1,\n",
              " 'aconitums': 1,\n",
              " 'acorn': 1,\n",
              " 'acorns': 1,\n",
              " 'acoustic': 1,\n",
              " 'acoustical': 1,\n",
              " 'acoustically': 1,\n",
              " 'acoustics': 1,\n",
              " 'acquaint': 1,\n",
              " 'acquaintance': 1,\n",
              " 'acquaintances': 1,\n",
              " 'acquaintanceship': 1,\n",
              " 'acquaintanceships': 1,\n",
              " 'acquainted': 1,\n",
              " 'acquainting': 1,\n",
              " 'acquaints': 1,\n",
              " 'acquest': 1,\n",
              " 'acquests': 1,\n",
              " 'acquiesce': 1,\n",
              " 'acquiesced': 1,\n",
              " 'acquiescence': 1,\n",
              " 'acquiescences': 1,\n",
              " 'acquiescent': 1,\n",
              " 'acquiescently': 1,\n",
              " 'acquiesces': 1,\n",
              " 'acquiescing': 1,\n",
              " 'acquire': 1,\n",
              " 'acquired': 1,\n",
              " 'acquirer': 1,\n",
              " 'acquirers': 1,\n",
              " 'acquires': 1,\n",
              " 'acquiring': 1,\n",
              " 'acquisition': 1,\n",
              " 'acquisitions': 1,\n",
              " 'acquisitive': 1,\n",
              " 'acquit': 1,\n",
              " 'acquits': 1,\n",
              " 'acquitted': 1,\n",
              " 'acquitting': 1,\n",
              " 'acrasin': 1,\n",
              " 'acrasins': 1,\n",
              " 'acre': 1,\n",
              " 'acreage': 1,\n",
              " 'acreages': 1,\n",
              " 'acred': 1,\n",
              " 'acres': 1,\n",
              " 'acrid': 1,\n",
              " 'acrider': 1,\n",
              " 'acridest': 1,\n",
              " 'acridine': 1,\n",
              " 'acridines': 1,\n",
              " 'acridities': 1,\n",
              " 'acridity': 1,\n",
              " 'acridly': 1,\n",
              " 'acridness': 1,\n",
              " 'acridnesses': 1,\n",
              " 'acrimonies': 1,\n",
              " 'acrimonious': 1,\n",
              " 'acrimony': 1,\n",
              " 'acrobat': 1,\n",
              " 'acrobatic': 1,\n",
              " 'acrobats': 1,\n",
              " 'acrodont': 1,\n",
              " 'acrodonts': 1,\n",
              " 'acrogen': 1,\n",
              " 'acrogens': 1,\n",
              " 'acrolein': 1,\n",
              " 'acroleins': 1,\n",
              " 'acrolith': 1,\n",
              " 'acroliths': 1,\n",
              " 'acromia': 1,\n",
              " 'acromial': 1,\n",
              " 'acromion': 1,\n",
              " 'acronic': 1,\n",
              " 'acronym': 1,\n",
              " 'acronyms': 1,\n",
              " 'across': 1,\n",
              " 'acrostic': 1,\n",
              " 'acrostics': 1,\n",
              " 'acrotic': 1,\n",
              " 'acrotism': 1,\n",
              " 'acrotisms': 1,\n",
              " 'acrylate': 1,\n",
              " 'acrylates': 1,\n",
              " 'acrylic': 1,\n",
              " 'acrylics': 1,\n",
              " 'act': 1,\n",
              " 'acta': 1,\n",
              " 'actable': 1,\n",
              " 'acted': 1,\n",
              " 'actin': 1,\n",
              " 'actinal': 1,\n",
              " 'acting': 1,\n",
              " 'actings': 1,\n",
              " 'actinia': 1,\n",
              " 'actiniae': 1,\n",
              " 'actinian': 1,\n",
              " 'actinians': 1,\n",
              " 'actinias': 1,\n",
              " 'actinic': 1,\n",
              " 'actinide': 1,\n",
              " 'actinides': 1,\n",
              " 'actinism': 1,\n",
              " 'actinisms': 1,\n",
              " 'actinium': 1,\n",
              " 'actiniums': 1,\n",
              " 'actinoid': 1,\n",
              " 'actinoids': 1,\n",
              " 'actinon': 1,\n",
              " 'actinons': 1,\n",
              " 'actins': 1,\n",
              " 'action': 1,\n",
              " 'actions': 1,\n",
              " 'activate': 1,\n",
              " 'activated': 1,\n",
              " 'activates': 1,\n",
              " 'activating': 1,\n",
              " 'activation': 1,\n",
              " 'activations': 1,\n",
              " 'active': 1,\n",
              " 'actively': 1,\n",
              " 'actives': 1,\n",
              " 'activism': 1,\n",
              " 'activisms': 1,\n",
              " 'activist': 1,\n",
              " 'activists': 1,\n",
              " 'activities': 1,\n",
              " 'activity': 1,\n",
              " 'actor': 1,\n",
              " 'actorish': 1,\n",
              " 'actors': 1,\n",
              " 'actress': 1,\n",
              " 'actresses': 1,\n",
              " 'acts': 1,\n",
              " 'actual': 1,\n",
              " 'actualities': 1,\n",
              " 'actuality': 1,\n",
              " 'actualization': 1,\n",
              " 'actualizations': 1,\n",
              " 'actualize': 1,\n",
              " 'actualized': 1,\n",
              " 'actualizes': 1,\n",
              " 'actualizing': 1,\n",
              " 'actually': 1,\n",
              " 'actuarial': 1,\n",
              " 'actuaries': 1,\n",
              " ...}"
            ]
          },
          "metadata": {},
          "execution_count": 92
        }
      ]
    },
    {
      "cell_type": "code",
      "source": [
        "type(words)"
      ],
      "metadata": {
        "colab": {
          "base_uri": "https://localhost:8080/"
        },
        "id": "-gWQ3cHOxZLe",
        "outputId": "0dd2513f-3e15-44f3-aaf9-709b707cf28d"
      },
      "execution_count": null,
      "outputs": [
        {
          "output_type": "execute_result",
          "data": {
            "text/plain": [
              "_io.TextIOWrapper"
            ]
          },
          "metadata": {},
          "execution_count": 93
        }
      ]
    },
    {
      "cell_type": "code",
      "source": [
        "### 11.2\n",
        "#Versão não concisa de inverter dicionário:\n",
        "def inverter_dicionario(h):\n",
        "  inverso = dict()\n",
        "  for key in h:\n",
        "    valor = h[key]\n",
        "    if valor not in inverso:\n",
        "      inverso[valor] = [key]\n",
        "    else:\n",
        "      inverso[valor].append(key)\n",
        "  return inverso\n",
        "\n",
        "## concisa com setdefault\n",
        "nome={\"m\":2,\"x\":3,\"a\":1,\"b\":1,\"c\":2}\n",
        "\n",
        "def inverter_conciso(h):\n",
        "  inverso=dict()\n",
        "  for key in h:\n",
        "    a = inverso.setdefault(h[key], [key])\n",
        "    if a != [key]:\n",
        "      inverso[h[key]].append(key)\n",
        "  return inverso\n",
        "\n"
      ],
      "metadata": {
        "id": "eaFP8f5Xxm2i"
      },
      "execution_count": null,
      "outputs": []
    },
    {
      "cell_type": "code",
      "source": [
        "inverter_conciso(nome)"
      ],
      "metadata": {
        "colab": {
          "base_uri": "https://localhost:8080/"
        },
        "id": "uVl9caisbbkL",
        "outputId": "7224e110-2807-42b6-ea0b-91d5095643cc"
      },
      "execution_count": null,
      "outputs": [
        {
          "output_type": "execute_result",
          "data": {
            "text/plain": [
              "{1: ['a', 'b'], 2: ['m', 'c'], 3: ['x']}"
            ]
          },
          "metadata": {},
          "execution_count": 22
        }
      ]
    },
    {
      "cell_type": "code",
      "source": [
        "### resposta verdadeiramente concisa\n",
        "def invert_dict(s):\n",
        "    i={}\n",
        "    for key in s:\n",
        "        v=s[key]\n",
        "        i.setdefault(v, []).append(key)\n",
        "    return i"
      ],
      "metadata": {
        "id": "bpVeFYuQcF4r"
      },
      "execution_count": null,
      "outputs": []
    },
    {
      "cell_type": "code",
      "source": [
        "invert_dict(nome)"
      ],
      "metadata": {
        "colab": {
          "base_uri": "https://localhost:8080/"
        },
        "id": "4oDKpAIWcGik",
        "outputId": "7de093d6-5e1e-4a62-a690-62c968b02cae"
      },
      "execution_count": null,
      "outputs": [
        {
          "output_type": "execute_result",
          "data": {
            "text/plain": [
              "{1: ['a', 'b'], 2: ['m', 'c'], 3: ['x']}"
            ]
          },
          "metadata": {},
          "execution_count": 24
        }
      ]
    },
    {
      "cell_type": "code",
      "source": [
        "nome"
      ],
      "metadata": {
        "colab": {
          "base_uri": "https://localhost:8080/"
        },
        "id": "BANPMXQqcQC6",
        "outputId": "5f05db69-c08f-4a89-cd34-e71e344a0e02"
      },
      "execution_count": null,
      "outputs": [
        {
          "output_type": "execute_result",
          "data": {
            "text/plain": [
              "{'a': 1, 'b': 1, 'c': 2, 'm': 2, 'x': 3}"
            ]
          },
          "metadata": {},
          "execution_count": 6
        }
      ]
    },
    {
      "cell_type": "code",
      "source": [
        "##11.3\n",
        "known={(0,0):1}\n",
        "def ack(m,n):\n",
        "  if (m,n) in known:\n",
        "    return known[(m,n)]\n",
        "  elif m==0:\n",
        "    known[(m,n)] = n+1\n",
        "    return n+1\n",
        "  elif m>0 and n ==0:\n",
        "    res = ack(m-1,1)\n",
        "    known[(m,n)] = res\n",
        "    return res\n",
        "  elif m>0 and n>0:\n",
        "    res2=ack(m-1,ack(m,n-1))\n",
        "    known[m,n]=res2\n",
        "    return res2\n",
        "\n",
        "\n"
      ],
      "metadata": {
        "id": "kLh5nbTFcStj"
      },
      "execution_count": null,
      "outputs": []
    },
    {
      "cell_type": "code",
      "source": [
        "ack(4,5)"
      ],
      "metadata": {
        "colab": {
          "base_uri": "https://localhost:8080/",
          "height": 346
        },
        "id": "C91TH8FoykQ2",
        "outputId": "e45c1a39-e525-4344-814a-43d7a7389379"
      },
      "execution_count": null,
      "outputs": [
        {
          "output_type": "error",
          "ename": "RecursionError",
          "evalue": "ignored",
          "traceback": [
            "\u001b[0;31m---------------------------------------------------------------------------\u001b[0m",
            "\u001b[0;31mRecursionError\u001b[0m                            Traceback (most recent call last)",
            "\u001b[0;32m<ipython-input-39-798893531852>\u001b[0m in \u001b[0;36m<module>\u001b[0;34m()\u001b[0m\n\u001b[0;32m----> 1\u001b[0;31m \u001b[0mack\u001b[0m\u001b[0;34m(\u001b[0m\u001b[0;36m4\u001b[0m\u001b[0;34m,\u001b[0m\u001b[0;36m5\u001b[0m\u001b[0;34m)\u001b[0m\u001b[0;34m\u001b[0m\u001b[0;34m\u001b[0m\u001b[0m\n\u001b[0m",
            "\u001b[0;32m<ipython-input-36-69bf55060333>\u001b[0m in \u001b[0;36mack\u001b[0;34m(m, n)\u001b[0m\n\u001b[1;32m     12\u001b[0m     \u001b[0;32mreturn\u001b[0m \u001b[0mres\u001b[0m\u001b[0;34m\u001b[0m\u001b[0;34m\u001b[0m\u001b[0m\n\u001b[1;32m     13\u001b[0m   \u001b[0;32melif\u001b[0m \u001b[0mm\u001b[0m\u001b[0;34m>\u001b[0m\u001b[0;36m0\u001b[0m \u001b[0;32mand\u001b[0m \u001b[0mn\u001b[0m\u001b[0;34m>\u001b[0m\u001b[0;36m0\u001b[0m\u001b[0;34m:\u001b[0m\u001b[0;34m\u001b[0m\u001b[0;34m\u001b[0m\u001b[0m\n\u001b[0;32m---> 14\u001b[0;31m     \u001b[0mres2\u001b[0m\u001b[0;34m=\u001b[0m\u001b[0mack\u001b[0m\u001b[0;34m(\u001b[0m\u001b[0mm\u001b[0m\u001b[0;34m-\u001b[0m\u001b[0;36m1\u001b[0m\u001b[0;34m,\u001b[0m\u001b[0mack\u001b[0m\u001b[0;34m(\u001b[0m\u001b[0mm\u001b[0m\u001b[0;34m,\u001b[0m\u001b[0mn\u001b[0m\u001b[0;34m-\u001b[0m\u001b[0;36m1\u001b[0m\u001b[0;34m)\u001b[0m\u001b[0;34m)\u001b[0m\u001b[0;34m\u001b[0m\u001b[0;34m\u001b[0m\u001b[0m\n\u001b[0m\u001b[1;32m     15\u001b[0m     \u001b[0mknown\u001b[0m\u001b[0;34m[\u001b[0m\u001b[0mm\u001b[0m\u001b[0;34m,\u001b[0m\u001b[0mn\u001b[0m\u001b[0;34m]\u001b[0m\u001b[0;34m=\u001b[0m\u001b[0mres2\u001b[0m\u001b[0;34m\u001b[0m\u001b[0;34m\u001b[0m\u001b[0m\n\u001b[1;32m     16\u001b[0m     \u001b[0;32mreturn\u001b[0m \u001b[0mres2\u001b[0m\u001b[0;34m\u001b[0m\u001b[0;34m\u001b[0m\u001b[0m\n",
            "... last 1 frames repeated, from the frame below ...\n",
            "\u001b[0;32m<ipython-input-36-69bf55060333>\u001b[0m in \u001b[0;36mack\u001b[0;34m(m, n)\u001b[0m\n\u001b[1;32m     12\u001b[0m     \u001b[0;32mreturn\u001b[0m \u001b[0mres\u001b[0m\u001b[0;34m\u001b[0m\u001b[0;34m\u001b[0m\u001b[0m\n\u001b[1;32m     13\u001b[0m   \u001b[0;32melif\u001b[0m \u001b[0mm\u001b[0m\u001b[0;34m>\u001b[0m\u001b[0;36m0\u001b[0m \u001b[0;32mand\u001b[0m \u001b[0mn\u001b[0m\u001b[0;34m>\u001b[0m\u001b[0;36m0\u001b[0m\u001b[0;34m:\u001b[0m\u001b[0;34m\u001b[0m\u001b[0;34m\u001b[0m\u001b[0m\n\u001b[0;32m---> 14\u001b[0;31m     \u001b[0mres2\u001b[0m\u001b[0;34m=\u001b[0m\u001b[0mack\u001b[0m\u001b[0;34m(\u001b[0m\u001b[0mm\u001b[0m\u001b[0;34m-\u001b[0m\u001b[0;36m1\u001b[0m\u001b[0;34m,\u001b[0m\u001b[0mack\u001b[0m\u001b[0;34m(\u001b[0m\u001b[0mm\u001b[0m\u001b[0;34m,\u001b[0m\u001b[0mn\u001b[0m\u001b[0;34m-\u001b[0m\u001b[0;36m1\u001b[0m\u001b[0;34m)\u001b[0m\u001b[0;34m)\u001b[0m\u001b[0;34m\u001b[0m\u001b[0;34m\u001b[0m\u001b[0m\n\u001b[0m\u001b[1;32m     15\u001b[0m     \u001b[0mknown\u001b[0m\u001b[0;34m[\u001b[0m\u001b[0mm\u001b[0m\u001b[0;34m,\u001b[0m\u001b[0mn\u001b[0m\u001b[0;34m]\u001b[0m\u001b[0;34m=\u001b[0m\u001b[0mres2\u001b[0m\u001b[0;34m\u001b[0m\u001b[0;34m\u001b[0m\u001b[0m\n\u001b[1;32m     16\u001b[0m     \u001b[0;32mreturn\u001b[0m \u001b[0mres2\u001b[0m\u001b[0;34m\u001b[0m\u001b[0;34m\u001b[0m\u001b[0m\n",
            "\u001b[0;31mRecursionError\u001b[0m: maximum recursion depth exceeded in comparison"
          ]
        }
      ]
    },
    {
      "cell_type": "code",
      "source": [
        ""
      ],
      "metadata": {
        "id": "YTvXRc01yl21"
      },
      "execution_count": null,
      "outputs": []
    }
  ]
}