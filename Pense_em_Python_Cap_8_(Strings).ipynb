{
  "nbformat": 4,
  "nbformat_minor": 0,
  "metadata": {
    "colab": {
      "name": "Pense em Python - Cap. 8 (Strings)",
      "provenance": [],
      "authorship_tag": "ABX9TyNG0NzrObs3J8LzoXr9+dPy",
      "include_colab_link": true
    },
    "kernelspec": {
      "name": "python3",
      "display_name": "Python 3"
    }
  },
  "cells": [
    {
      "cell_type": "markdown",
      "metadata": {
        "id": "view-in-github",
        "colab_type": "text"
      },
      "source": [
        "<a href=\"https://colab.research.google.com/github/candidobri2/estudo_pense_em_python/blob/main/Pense_em_Python_Cap_8_(Strings).ipynb\" target=\"_parent\"><img src=\"https://colab.research.google.com/assets/colab-badge.svg\" alt=\"Open In Colab\"/></a>"
      ]
    },
    {
      "cell_type": "markdown",
      "metadata": {
        "id": "repmi1Jxy_vU"
      },
      "source": [
        "## Capítulo 8 - Strings\n",
        "##### Livro \"Pense em Python - Allen Downey\"\n",
        "###### Dia 14/12 - Anotações de Candido Brito"
      ]
    },
    {
      "cell_type": "markdown",
      "metadata": {
        "id": "C_JBIU5i2YM7"
      },
      "source": [
        "Podemos acessar um caractere específico da palavra utilizando colchetes, mas é bom lembrar que o índice começa do zero\n"
      ]
    },
    {
      "cell_type": "code",
      "metadata": {
        "id": "eHLRLI051QbE"
      },
      "source": [
        "fruta = \"banana\"\n",
        "primeira_letra=fruta[1] ##Errado\n",
        "primeira_letra_certa=fruta[0]\n",
        "ultima_letra=fruta[-1]"
      ],
      "execution_count": null,
      "outputs": []
    },
    {
      "cell_type": "code",
      "metadata": {
        "colab": {
          "base_uri": "https://localhost:8080/",
          "height": 35
        },
        "id": "4298LnYA1cZi",
        "outputId": "1a091f25-6ae9-40c1-94a7-38d5966f4061"
      },
      "source": [
        "primeira_letra"
      ],
      "execution_count": null,
      "outputs": [
        {
          "output_type": "execute_result",
          "data": {
            "application/vnd.google.colaboratory.intrinsic+json": {
              "type": "string"
            },
            "text/plain": [
              "'a'"
            ]
          },
          "metadata": {
            "tags": []
          },
          "execution_count": 2
        }
      ]
    },
    {
      "cell_type": "code",
      "metadata": {
        "colab": {
          "base_uri": "https://localhost:8080/",
          "height": 35
        },
        "id": "8dRn8mqd1gfb",
        "outputId": "fee90344-4ddf-4db3-ee1c-eb43d645f176"
      },
      "source": [
        "primeira_letra_certa"
      ],
      "execution_count": null,
      "outputs": [
        {
          "output_type": "execute_result",
          "data": {
            "application/vnd.google.colaboratory.intrinsic+json": {
              "type": "string"
            },
            "text/plain": [
              "'b'"
            ]
          },
          "metadata": {
            "tags": []
          },
          "execution_count": 3
        }
      ]
    },
    {
      "cell_type": "code",
      "metadata": {
        "colab": {
          "base_uri": "https://localhost:8080/",
          "height": 35
        },
        "id": "8BcfQZ7t3naE",
        "outputId": "082ba705-fd45-411d-a772-a105fbcd3d70"
      },
      "source": [
        "ultima_letra"
      ],
      "execution_count": null,
      "outputs": [
        {
          "output_type": "execute_result",
          "data": {
            "application/vnd.google.colaboratory.intrinsic+json": {
              "type": "string"
            },
            "text/plain": [
              "'a'"
            ]
          },
          "metadata": {
            "tags": []
          },
          "execution_count": 7
        }
      ]
    },
    {
      "cell_type": "markdown",
      "metadata": {
        "id": "l9vA_CjZ3SrQ"
      },
      "source": [
        "Para sabermos o número de caracteres usamos a função integrada _len()_"
      ]
    },
    {
      "cell_type": "code",
      "metadata": {
        "colab": {
          "base_uri": "https://localhost:8080/"
        },
        "id": "kbuRET2N2uXL",
        "outputId": "81213bcd-8c05-46d7-8c81-607c747d0d64"
      },
      "source": [
        "len(fruta)"
      ],
      "execution_count": null,
      "outputs": [
        {
          "output_type": "execute_result",
          "data": {
            "text/plain": [
              "6"
            ]
          },
          "metadata": {
            "tags": []
          },
          "execution_count": 4
        }
      ]
    },
    {
      "cell_type": "code",
      "metadata": {
        "colab": {
          "base_uri": "https://localhost:8080/"
        },
        "id": "Kf_LFVg42x66",
        "outputId": "410c1a0f-03b4-46b7-cfec-79760122f6ff"
      },
      "source": [
        "len(\"abacaxi\")"
      ],
      "execution_count": null,
      "outputs": [
        {
          "output_type": "execute_result",
          "data": {
            "text/plain": [
              "7"
            ]
          },
          "metadata": {
            "tags": []
          },
          "execution_count": 5
        }
      ]
    },
    {
      "cell_type": "markdown",
      "metadata": {
        "id": "6nO6wvxc32ar"
      },
      "source": [
        "**Travessia** é o processamento de um caractere por vez em uma string.\n",
        "Muitas vezes começam no início, selecionam um caractere por vez, fazem algo e\n",
        "continuam até o fim. Podemos fazê-lo com loop _While_ ou _For_"
      ]
    },
    {
      "cell_type": "markdown",
      "metadata": {
        "id": "G2zS-jlM4nnH"
      },
      "source": [
        "No caso abaixo, o que se faz é apenas exibir a letra a medida que a travessia é feita na palavra."
      ]
    },
    {
      "cell_type": "code",
      "metadata": {
        "colab": {
          "base_uri": "https://localhost:8080/"
        },
        "id": "biYf8zl74GUP",
        "outputId": "98413681-7109-4ec8-fcf1-23c11b7d0b9c"
      },
      "source": [
        "palavra = \"Ronaldo\" ## travessia com While\n",
        "i=0\n",
        "while i<len(palavra):\n",
        "  letter = palavra[i]\n",
        "  print(letter)\n",
        "  i=i+1\n"
      ],
      "execution_count": null,
      "outputs": [
        {
          "output_type": "stream",
          "text": [
            "R\n",
            "o\n",
            "n\n",
            "a\n",
            "l\n",
            "d\n",
            "o\n"
          ],
          "name": "stdout"
        }
      ]
    },
    {
      "cell_type": "markdown",
      "metadata": {
        "id": "sRtIntLH413j"
      },
      "source": [
        "**Exemplo 1** - Como exercício, escreva uma função que receba uma string como argumento e exiba as\n",
        "letras de trás para a frente, uma por linha."
      ]
    },
    {
      "cell_type": "code",
      "metadata": {
        "colab": {
          "base_uri": "https://localhost:8080/"
        },
        "id": "Pk_v_ZYr467i",
        "outputId": "0080fdaf-4104-4083-970b-5658a176135f"
      },
      "source": [
        "def contrario(palavra): ## função com while\n",
        "  i=1\n",
        "  while i<len(palavra):\n",
        "    letra = palavra[-i]\n",
        "    print(letra)\n",
        "    i=i+1\n",
        "  print(palavra[0])\n",
        "\n",
        "contrario(\"Felipe Baixola\")"
      ],
      "execution_count": null,
      "outputs": [
        {
          "output_type": "stream",
          "text": [
            "a\n",
            "l\n",
            "o\n",
            "x\n",
            "i\n",
            "a\n",
            "B\n",
            " \n",
            "e\n",
            "p\n",
            "i\n",
            "l\n",
            "e\n",
            "F\n"
          ],
          "name": "stdout"
        }
      ]
    },
    {
      "cell_type": "markdown",
      "metadata": {
        "id": "JFtafwFu8VT2"
      },
      "source": [
        "Comentário sobre a resolução: Dá pra fazer essa solução sem colocar o palavra[0]?"
      ]
    },
    {
      "cell_type": "code",
      "metadata": {
        "colab": {
          "base_uri": "https://localhost:8080/"
        },
        "id": "Wgs_DTpy8c9G",
        "outputId": "6bf1783a-5983-4fa5-e0d3-c32e60a49fba"
      },
      "source": [
        "palavrinha= \"João\"\n",
        "for letra in palavrinha:\n",
        "  print(letra)"
      ],
      "execution_count": null,
      "outputs": [
        {
          "output_type": "stream",
          "text": [
            "J\n",
            "o\n",
            "ã\n",
            "o\n"
          ],
          "name": "stdout"
        }
      ]
    },
    {
      "cell_type": "markdown",
      "metadata": {
        "id": "wOdSjmtO9diS"
      },
      "source": [
        "Note que a palavra usada depois do for pode ser qualquer uma, contanto que no corpo do for ela seja usada. Por exemplo:"
      ]
    },
    {
      "cell_type": "code",
      "metadata": {
        "colab": {
          "base_uri": "https://localhost:8080/"
        },
        "id": "hmoLXTdR9mGy",
        "outputId": "0e351006-f2a7-424b-de65-ef1f52cedf95"
      },
      "source": [
        "nome=\"João Ricardo\"\n",
        "for qualquercoisa in nome:\n",
        "  print(qualquercoisa)"
      ],
      "execution_count": null,
      "outputs": [
        {
          "output_type": "stream",
          "text": [
            "J\n",
            "o\n",
            "ã\n",
            "o\n",
            " \n",
            "R\n",
            "i\n",
            "c\n",
            "a\n",
            "r\n",
            "d\n",
            "o\n"
          ],
          "name": "stdout"
        }
      ]
    },
    {
      "cell_type": "markdown",
      "metadata": {
        "id": "PKgkTBgU_KxK"
      },
      "source": [
        "Exemplo 2: No livro de Robert\n",
        "McCloskey, Make Way for Ducklings (Abram caminho para os patinhos), os nomes dos\n",
        "patinhos são Jack, Kack, Lack, Mack, Nack, Ouack, Pack e Quack. Este loop produz estes\n",
        "nomes em ordem:"
      ]
    },
    {
      "cell_type": "code",
      "metadata": {
        "colab": {
          "base_uri": "https://localhost:8080/"
        },
        "id": "E9ngNVQH_OQG",
        "outputId": "8d715a30-a9de-4ba9-98e3-05d5e1a4595c"
      },
      "source": [
        "prefixo=\"JKLMNOPQ\"\n",
        "sufixo=\"ack\"\n",
        "for letra in prefixo:\n",
        "  print(letra + sufixo)\n"
      ],
      "execution_count": null,
      "outputs": [
        {
          "output_type": "stream",
          "text": [
            "Jack\n",
            "Kack\n",
            "Lack\n",
            "Mack\n",
            "Nack\n",
            "Oack\n",
            "Pack\n",
            "Qack\n"
          ],
          "name": "stdout"
        }
      ]
    },
    {
      "cell_type": "markdown",
      "metadata": {
        "id": "-yYFb_jD_lxa"
      },
      "source": [
        "Claro que não está exatamente certo porque “Ouack” e “Quack” foram mal soletrados.\n",
        "Como exercício, altere o programa para corrigir este erro.\n"
      ]
    },
    {
      "cell_type": "code",
      "metadata": {
        "colab": {
          "base_uri": "https://localhost:8080/"
        },
        "id": "o30diP1J_p9x",
        "outputId": "f6ce02eb-87d6-4fc9-e53d-7fa6bcc0a73a"
      },
      "source": [
        "prefixo=\"JKLMNOPQ\"\n",
        "sufixo=\"ack\"\n",
        "for letra in prefixo:\n",
        "  if letra==\"O\" or letra ==\"Q\":\n",
        "    print(letra + \"u\" + sufixo)\n",
        "  else:\n",
        "    print(letra + sufixo)"
      ],
      "execution_count": null,
      "outputs": [
        {
          "output_type": "stream",
          "text": [
            "Jack\n",
            "Kack\n",
            "Lack\n",
            "Mack\n",
            "Nack\n",
            "Ouack\n",
            "Pack\n",
            "Quack\n"
          ],
          "name": "stdout"
        }
      ]
    },
    {
      "cell_type": "markdown",
      "metadata": {
        "id": "Q6smlDOTCh1P"
      },
      "source": [
        "### Fatiamento de strings = um pedaço da string, ou seja, selecionar alguns caracteres é fatiar"
      ]
    },
    {
      "cell_type": "code",
      "metadata": {
        "colab": {
          "base_uri": "https://localhost:8080/",
          "height": 35
        },
        "id": "m1C_2eD4CkA3",
        "outputId": "316823b8-3999-41f3-aa05-ef81ec463c2e"
      },
      "source": [
        "s = \"Acid Rain\"\n",
        "s[0:3]\n",
        "\n"
      ],
      "execution_count": null,
      "outputs": [
        {
          "output_type": "execute_result",
          "data": {
            "application/vnd.google.colaboratory.intrinsic+json": {
              "type": "string"
            },
            "text/plain": [
              "'Aci'"
            ]
          },
          "metadata": {
            "tags": []
          },
          "execution_count": 40
        }
      ]
    },
    {
      "cell_type": "code",
      "metadata": {
        "colab": {
          "base_uri": "https://localhost:8080/",
          "height": 35
        },
        "id": "pkjvnEIqCxWg",
        "outputId": "68b9ce5a-6338-43c8-d4c9-f0f5a31f9428"
      },
      "source": [
        "s[0:4]"
      ],
      "execution_count": null,
      "outputs": [
        {
          "output_type": "execute_result",
          "data": {
            "application/vnd.google.colaboratory.intrinsic+json": {
              "type": "string"
            },
            "text/plain": [
              "'Acid'"
            ]
          },
          "metadata": {
            "tags": []
          },
          "execution_count": 41
        }
      ]
    },
    {
      "cell_type": "markdown",
      "metadata": {
        "id": "V4mYdxWQDTRd"
      },
      "source": [
        "Note que este tipo de operado atua da seguinte forma: inclue o primeiro que você coloca entre colchetes, mas exclui o último"
      ]
    },
    {
      "cell_type": "code",
      "metadata": {
        "id": "6eiFYCXcDxIF"
      },
      "source": [
        "palavrita = s[0:4]"
      ],
      "execution_count": null,
      "outputs": []
    },
    {
      "cell_type": "code",
      "metadata": {
        "colab": {
          "base_uri": "https://localhost:8080/",
          "height": 35
        },
        "id": "RnIBr6yOEpCH",
        "outputId": "34c594e4-4166-4f80-e1b7-dbfba4f52463"
      },
      "source": [
        "palavrita"
      ],
      "execution_count": null,
      "outputs": [
        {
          "output_type": "execute_result",
          "data": {
            "application/vnd.google.colaboratory.intrinsic+json": {
              "type": "string"
            },
            "text/plain": [
              "'Acid'"
            ]
          },
          "metadata": {
            "tags": []
          },
          "execution_count": 43
        }
      ]
    },
    {
      "cell_type": "markdown",
      "metadata": {
        "id": "7CBGE2p4FgC4"
      },
      "source": [
        "## Strings são imutáveis"
      ]
    },
    {
      "cell_type": "code",
      "metadata": {
        "colab": {
          "base_uri": "https://localhost:8080/",
          "height": 180
        },
        "id": "52XUfbkSFiCA",
        "outputId": "5183acb3-a972-4507-d909-d8eff11e88e9"
      },
      "source": [
        "frase=\"Olá, Mundo\"\n",
        "frase[0] = \"A\""
      ],
      "execution_count": null,
      "outputs": [
        {
          "output_type": "error",
          "ename": "TypeError",
          "evalue": "ignored",
          "traceback": [
            "\u001b[0;31m---------------------------------------------------------------------------\u001b[0m",
            "\u001b[0;31mTypeError\u001b[0m                                 Traceback (most recent call last)",
            "\u001b[0;32m<ipython-input-44-49e4367d6251>\u001b[0m in \u001b[0;36m<module>\u001b[0;34m()\u001b[0m\n\u001b[1;32m      1\u001b[0m \u001b[0mfrase\u001b[0m\u001b[0;34m=\u001b[0m\u001b[0;34m\"Olá, Mundo\"\u001b[0m\u001b[0;34m\u001b[0m\u001b[0;34m\u001b[0m\u001b[0m\n\u001b[0;32m----> 2\u001b[0;31m \u001b[0mfrase\u001b[0m\u001b[0;34m[\u001b[0m\u001b[0;36m0\u001b[0m\u001b[0;34m]\u001b[0m \u001b[0;34m=\u001b[0m \u001b[0;34m\"A\"\u001b[0m\u001b[0;34m\u001b[0m\u001b[0;34m\u001b[0m\u001b[0m\n\u001b[0m",
            "\u001b[0;31mTypeError\u001b[0m: 'str' object does not support item assignment"
          ]
        }
      ]
    },
    {
      "cell_type": "markdown",
      "metadata": {
        "id": "m7_dOU17Ik3U"
      },
      "source": [
        "O erro acontece pois as strings são imutáveis, ou seja, não podemos alterá-la. O que podemos fazer é uma nova. Por exemplo:"
      ]
    },
    {
      "cell_type": "code",
      "metadata": {
        "id": "mdS4yXxNIxUV"
      },
      "source": [
        "mentira = \"CR7 é o melhor jogador do mundo\""
      ],
      "execution_count": null,
      "outputs": []
    },
    {
      "cell_type": "code",
      "metadata": {
        "id": "4Gs8wJxiI03k"
      },
      "source": [
        "verdade=\"Messi\" + mentira[3:]"
      ],
      "execution_count": null,
      "outputs": []
    },
    {
      "cell_type": "code",
      "metadata": {
        "colab": {
          "base_uri": "https://localhost:8080/",
          "height": 35
        },
        "id": "TdO93Vh6I9ZW",
        "outputId": "f790acc7-4ad0-484d-df8c-408b41beb78b"
      },
      "source": [
        "verdade\n"
      ],
      "execution_count": null,
      "outputs": [
        {
          "output_type": "execute_result",
          "data": {
            "application/vnd.google.colaboratory.intrinsic+json": {
              "type": "string"
            },
            "text/plain": [
              "'Messi é o melhor jogador do mundo'"
            ]
          },
          "metadata": {
            "tags": []
          },
          "execution_count": 49
        }
      ]
    },
    {
      "cell_type": "markdown",
      "metadata": {
        "id": "p-iY7W3AJOfN"
      },
      "source": [
        "Lembrando que a formação da nova string, não muda a antiga."
      ]
    },
    {
      "cell_type": "markdown",
      "metadata": {
        "id": "QBmNs5V3QrHW"
      },
      "source": [
        "#### Buscador"
      ]
    },
    {
      "cell_type": "markdown",
      "metadata": {
        "id": "Xl_RwXIlQvSn"
      },
      "source": [
        "A função a seguir é o inverso do operadro [], ele recebe a letra e diz a posição"
      ]
    },
    {
      "cell_type": "code",
      "metadata": {
        "id": "tMY2gIzHQ2qv"
      },
      "source": [
        "def find(word,letter):\n",
        "  index=0\n",
        "  while index<len(word):\n",
        "    if word[index].upper()==letter.upper():\n",
        "      return index\n",
        "    index=index+1\n",
        "  return -1\n"
      ],
      "execution_count": null,
      "outputs": []
    },
    {
      "cell_type": "code",
      "metadata": {
        "colab": {
          "base_uri": "https://localhost:8080/"
        },
        "id": "1DrB1jHuRLWc",
        "outputId": "7e34a423-0f7a-4031-cdd6-cc921fe53133"
      },
      "source": [
        "find(\"Banana\",\"a\")"
      ],
      "execution_count": null,
      "outputs": [
        {
          "output_type": "execute_result",
          "data": {
            "text/plain": [
              "1"
            ]
          },
          "metadata": {
            "tags": []
          },
          "execution_count": 9
        }
      ]
    },
    {
      "cell_type": "code",
      "metadata": {
        "colab": {
          "base_uri": "https://localhost:8080/"
        },
        "id": "zErPZNXQRT6-",
        "outputId": "f63d1ee7-21b1-438e-8820-77e71c319ec2"
      },
      "source": [
        "find(\"Banana\",\"b\")"
      ],
      "execution_count": null,
      "outputs": [
        {
          "output_type": "execute_result",
          "data": {
            "text/plain": [
              "0"
            ]
          },
          "metadata": {
            "tags": []
          },
          "execution_count": 10
        }
      ]
    },
    {
      "cell_type": "markdown",
      "metadata": {
        "id": "6HJc0c3yRwDs"
      },
      "source": [
        "Como exercício, altere find para que tenha um terceiro parâmetro: o índice em word onde\n",
        "deve começar a busca.\n"
      ]
    },
    {
      "cell_type": "code",
      "metadata": {
        "id": "vlX13X-1RxFD"
      },
      "source": [
        "def find(word,letter, indice):\n",
        "  index=0\n",
        "  while index<len(word):\n",
        "    word2 = word[indice:]\n",
        "    if word2[index].upper()==letter.upper():\n",
        "      return index\n",
        "    index=index+1\n",
        "  return -1"
      ],
      "execution_count": null,
      "outputs": []
    },
    {
      "cell_type": "code",
      "metadata": {
        "colab": {
          "base_uri": "https://localhost:8080/"
        },
        "id": "fCkzlGyrSL5z",
        "outputId": "8deeff81-c49b-45e4-abc7-6afd6fc91498"
      },
      "source": [
        "find(\"Banana\", \"a\", 2)"
      ],
      "execution_count": null,
      "outputs": [
        {
          "output_type": "execute_result",
          "data": {
            "text/plain": [
              "1"
            ]
          },
          "metadata": {
            "tags": []
          },
          "execution_count": 15
        }
      ]
    },
    {
      "cell_type": "markdown",
      "metadata": {
        "id": "HrsZlCk1Smv-"
      },
      "source": [
        "#### Loop e Contagem\n",
        "\n",
        "Programa a seguir conta quantas vezes a letra aparece numa string"
      ]
    },
    {
      "cell_type": "code",
      "metadata": {
        "colab": {
          "base_uri": "https://localhost:8080/"
        },
        "id": "ll_hhpc3Ssd9",
        "outputId": "b2779801-1b8a-4677-ffca-6d27e3a066ec"
      },
      "source": [
        "word=\"banana\"\n",
        "contador = 0\n",
        "for letter in word:\n",
        "  if letter==\"a\":\n",
        "    contador=contador+1\n",
        "print(contador)"
      ],
      "execution_count": null,
      "outputs": [
        {
          "output_type": "stream",
          "text": [
            "3\n"
          ],
          "name": "stdout"
        }
      ]
    },
    {
      "cell_type": "markdown",
      "metadata": {
        "id": "7B3aXufOTJTn"
      },
      "source": [
        "Como exercício, encapsule este código em uma função denominada count e generalize-o\n",
        "para que aceite a string e a letra como argumentos.\n",
        "Então reescreva a função para que, em vez de atravessar a string, ela use a versão de três\n",
        "parâmetros do find da seção anterior.\n"
      ]
    },
    {
      "cell_type": "code",
      "metadata": {
        "id": "Dk_VtYANTJxs"
      },
      "source": [
        "def count(palavra, letra):\n",
        "  contador=0\n",
        "  for letrinha in palavra:\n",
        "    if letrinha==letra:\n",
        "      contador=contador+1\n",
        "  return contador"
      ],
      "execution_count": null,
      "outputs": []
    },
    {
      "cell_type": "code",
      "metadata": {
        "colab": {
          "base_uri": "https://localhost:8080/"
        },
        "id": "eLd3tCaATfbN",
        "outputId": "fed68401-ff10-41a3-c7a6-45b33014e2bf"
      },
      "source": [
        "count(\"baralho\",\"a\")"
      ],
      "execution_count": null,
      "outputs": [
        {
          "output_type": "execute_result",
          "data": {
            "text/plain": [
              "2"
            ]
          },
          "metadata": {
            "tags": []
          },
          "execution_count": 18
        }
      ]
    },
    {
      "cell_type": "code",
      "metadata": {
        "id": "bx2u5cOCTkDa"
      },
      "source": [
        "def count2(palavra, letra, indice):\n",
        "  contador=0\n",
        "  for letrinha in palavra[indice:]:\n",
        "    if letrinha==letra:\n",
        "      contador=contador+1\n",
        "  return contador"
      ],
      "execution_count": null,
      "outputs": []
    },
    {
      "cell_type": "code",
      "metadata": {
        "colab": {
          "base_uri": "https://localhost:8080/"
        },
        "id": "42tuYzjyTu0P",
        "outputId": "1c9dd4f6-81b1-4364-a143-14d7310c0ebd"
      },
      "source": [
        "count2(\"baralho\",\"a\",4)"
      ],
      "execution_count": null,
      "outputs": [
        {
          "output_type": "execute_result",
          "data": {
            "text/plain": [
              "0"
            ]
          },
          "metadata": {
            "tags": []
          },
          "execution_count": 20
        }
      ]
    },
    {
      "cell_type": "markdown",
      "metadata": {
        "id": "_8JLorRBT62u"
      },
      "source": [
        "## Métodos das Strings\n",
        "\n",
        "As strings oferecem métodos que executam várias operações úteis. Um método é\n",
        "semelhante a uma função – toma argumentos e devolve um valor –, mas a sintaxe é\n",
        "diferente. "
      ]
    },
    {
      "cell_type": "code",
      "metadata": {
        "id": "HL4148D-T89Q"
      },
      "source": [
        "palavra=\"Léo Chu\"\n",
        "palavrão = palavra.upper()\n",
        "letra=palavra.find(\"a\")"
      ],
      "execution_count": null,
      "outputs": []
    },
    {
      "cell_type": "code",
      "metadata": {
        "colab": {
          "base_uri": "https://localhost:8080/",
          "height": 35
        },
        "id": "wLt1lJMyUOoh",
        "outputId": "4eda206e-cc7d-44b7-e54f-a43f817164d9"
      },
      "source": [
        "palavra"
      ],
      "execution_count": null,
      "outputs": [
        {
          "output_type": "execute_result",
          "data": {
            "application/vnd.google.colaboratory.intrinsic+json": {
              "type": "string"
            },
            "text/plain": [
              "'Léo Chu'"
            ]
          },
          "metadata": {
            "tags": []
          },
          "execution_count": 23
        }
      ]
    },
    {
      "cell_type": "code",
      "metadata": {
        "colab": {
          "base_uri": "https://localhost:8080/",
          "height": 35
        },
        "id": "4xnVmChKUgaR",
        "outputId": "1579958d-5677-440a-e4c2-89f111af5725"
      },
      "source": [
        "palavrão"
      ],
      "execution_count": null,
      "outputs": [
        {
          "output_type": "execute_result",
          "data": {
            "application/vnd.google.colaboratory.intrinsic+json": {
              "type": "string"
            },
            "text/plain": [
              "'LÉO CHU'"
            ]
          },
          "metadata": {
            "tags": []
          },
          "execution_count": 24
        }
      ]
    },
    {
      "cell_type": "code",
      "metadata": {
        "colab": {
          "base_uri": "https://localhost:8080/"
        },
        "id": "fwMWXTf0UhXz",
        "outputId": "78a4a661-69e1-44be-82c8-9e6b637933bc"
      },
      "source": [
        "letra"
      ],
      "execution_count": null,
      "outputs": [
        {
          "output_type": "execute_result",
          "data": {
            "text/plain": [
              "-1"
            ]
          },
          "metadata": {
            "tags": []
          },
          "execution_count": 25
        }
      ]
    },
    {
      "cell_type": "markdown",
      "metadata": {
        "id": "uPgAn0w0U3fV"
      },
      "source": [
        "Operador in\n"
      ]
    },
    {
      "cell_type": "code",
      "metadata": {
        "colab": {
          "base_uri": "https://localhost:8080/"
        },
        "id": "JkbkktUMU5jq",
        "outputId": "383ce406-0367-48d7-d116-082ebc99bf73"
      },
      "source": [
        "\"a\" in \"lalaland\""
      ],
      "execution_count": null,
      "outputs": [
        {
          "output_type": "execute_result",
          "data": {
            "text/plain": [
              "True"
            ]
          },
          "metadata": {
            "tags": []
          },
          "execution_count": 26
        }
      ]
    },
    {
      "cell_type": "code",
      "metadata": {
        "colab": {
          "base_uri": "https://localhost:8080/"
        },
        "id": "LNgYRAQWU7_c",
        "outputId": "59e561b0-2352-41db-a4c5-58d8a8f073a5"
      },
      "source": [
        "\"i\" in \"lalaland\""
      ],
      "execution_count": null,
      "outputs": [
        {
          "output_type": "execute_result",
          "data": {
            "text/plain": [
              "False"
            ]
          },
          "metadata": {
            "tags": []
          },
          "execution_count": 27
        }
      ]
    },
    {
      "cell_type": "code",
      "metadata": {
        "id": "2U9X1hGKU-uP"
      },
      "source": [
        "def letras_iguais(palavra1,palavra2):\n",
        "  for letter in palavra1:\n",
        "      if letter in palavra2:\n",
        "        print(letter)"
      ],
      "execution_count": null,
      "outputs": []
    },
    {
      "cell_type": "code",
      "metadata": {
        "colab": {
          "base_uri": "https://localhost:8080/"
        },
        "id": "mqknZXekVSoQ",
        "outputId": "98702a44-07b6-40db-90e5-9f954ad04a1d"
      },
      "source": [
        "letras_iguais(\"banana\", \"bacone\")"
      ],
      "execution_count": null,
      "outputs": [
        {
          "output_type": "stream",
          "text": [
            "b\n",
            "a\n",
            "n\n",
            "a\n",
            "n\n",
            "a\n"
          ],
          "name": "stdout"
        }
      ]
    },
    {
      "cell_type": "markdown",
      "metadata": {
        "id": "RTL_96WBaOdv"
      },
      "source": [
        "### Exercício Cifra de César"
      ]
    },
    {
      "cell_type": "code",
      "metadata": {
        "id": "9Ty9bzPyaRXt"
      },
      "source": [
        "def cifra_de_cesar(palavra,rotacionar):\n",
        "  palavra_cifrada=\"\"\n",
        "  for i in palavra.upper():\n",
        "    numero=ord(i)\n",
        "    if numero-<\n",
        "    novo_numero=numero+rotacionar\n",
        "    nova_letra=chr(novo_numero)\n",
        "    palavra_cifrada=palavra_cifrada+nova_letra\n",
        "  return palavra_cifrada"
      ],
      "execution_count": null,
      "outputs": []
    },
    {
      "cell_type": "code",
      "metadata": {
        "colab": {
          "base_uri": "https://localhost:8080/",
          "height": 35
        },
        "id": "n63Sh5E6acpS",
        "outputId": "284cbe83-b7ee-4484-f8b4-6a91f43be621"
      },
      "source": [
        "cifra_de_cesar(\"melon\",-10)"
      ],
      "execution_count": null,
      "outputs": [
        {
          "output_type": "execute_result",
          "data": {
            "application/vnd.google.colaboratory.intrinsic+json": {
              "type": "string"
            },
            "text/plain": [
              "'C;BED'"
            ]
          },
          "metadata": {
            "tags": []
          },
          "execution_count": 56
        }
      ]
    },
    {
      "cell_type": "code",
      "metadata": {
        "colab": {
          "base_uri": "https://localhost:8080/"
        },
        "id": "uaSSx-4dafrq",
        "outputId": "110d8911-ab02-420c-c81b-49bcd54d1743"
      },
      "source": [
        "ord(\"z\")"
      ],
      "execution_count": null,
      "outputs": [
        {
          "output_type": "execute_result",
          "data": {
            "text/plain": [
              "122"
            ]
          },
          "metadata": {
            "tags": []
          },
          "execution_count": 63
        }
      ]
    },
    {
      "cell_type": "markdown",
      "metadata": {
        "id": "UhVw-AcRc97I"
      },
      "source": [
        "***Está faltando resolver o problema de quando passa do numero, ele não ta dando a volta"
      ]
    },
    {
      "cell_type": "code",
      "metadata": {
        "id": "kWWIFtGAdEdb",
        "colab": {
          "base_uri": "https://localhost:8080/"
        },
        "outputId": "f198a3f6-03cc-47c8-9f1a-deaf34152572"
      },
      "source": [
        "ord(\"Z\")"
      ],
      "execution_count": null,
      "outputs": [
        {
          "output_type": "execute_result",
          "data": {
            "text/plain": [
              "90"
            ]
          },
          "metadata": {
            "tags": []
          },
          "execution_count": 2
        }
      ]
    },
    {
      "cell_type": "code",
      "metadata": {
        "id": "umUfAj-Trjya"
      },
      "source": [
        ""
      ],
      "execution_count": null,
      "outputs": []
    }
  ]
}